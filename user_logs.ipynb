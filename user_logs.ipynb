{
 "cells": [
  {
   "cell_type": "markdown",
   "id": "de3d899a-d2e2-4ee1-ad61-81594a8d6f0d",
   "metadata": {},
   "source": [
    "**Цели анализа:**\n",
    "* определить клиента с наибольшим числом успешных операций;\n",
    "\n",
    "* выявить платформу, на которой совершается больше всего успешных действий;\n",
    "\n",
    "* определить, какую платформу предпочитают премиум-клиенты;\n",
    "\n",
    "* проанализировать распределение возраста клиентов в зависимости от премиум-статуса;\n",
    "\n",
    "* исследовать распределение числа успешных операций;\n",
    "\n",
    "* определить возраст клиентов, совершивших наибольшее количество успешных действий на платформе computer.\n",
    "\n"
   ]
  },
  {
   "cell_type": "markdown",
   "id": "f98f9b8b-b22c-4af1-bc09-b959bd50458b",
   "metadata": {},
   "source": [
    "**1. Импорт необходимых библиотек**"
   ]
  },
  {
   "cell_type": "code",
   "execution_count": 2,
   "id": "2b583a15-9342-41be-b653-aaa4d01a2ed5",
   "metadata": {},
   "outputs": [],
   "source": [
    "import pandas as pd\n",
    "import seaborn as sns \n",
    "import matplotlib.pyplot as plt"
   ]
  },
  {
   "cell_type": "markdown",
   "id": "6bd658bb-5eb7-4c39-af55-bec0519a2e00",
   "metadata": {},
   "source": [
    "**1.1** Загрузка двух датасетов с информацией про пользователей\n",
    "\n",
    "    user_data:\n",
    "client – идентификатор пользователя\n",
    "premium – является ли клиент премиум\n",
    "age – возраст\n",
    "\n",
    "    logs:\n",
    "client – идентификатор пользователя\n",
    "success – результат (успех - 1, нет - 0)\n",
    "platform – платформа\n",
    "time – время в формате Unix"
   ]
  },
  {
   "cell_type": "code",
   "execution_count": 3,
   "id": "4b77bbe0-5d01-4bf1-80e4-09f697158b72",
   "metadata": {},
   "outputs": [],
   "source": [
    "user_data = pd.read_csv('user_data.csv')\n",
    "logs = pd.read_csv('logs.csv')\n",
    "logs['time'] = pd.to_datetime(logs['time'])\n"
   ]
  },
  {
   "cell_type": "markdown",
   "id": "cd3d74a6-68d9-487c-8de1-fde5a44a1038",
   "metadata": {},
   "source": [
    "Перевод времени из Unix формата(число секунд, прошедших с 1970 года) к более понятному"
   ]
  },
  {
   "cell_type": "markdown",
   "id": "27bd53a5-72d7-4117-9432-1357d461a934",
   "metadata": {},
   "source": [
    "**1.2** Проверим размер таблицы, типы переменных, наличие пропущенных значений, описательную статистику."
   ]
  },
  {
   "cell_type": "code",
   "execution_count": null,
   "id": "1f96b88a-0002-48ae-a0ab-601eb34650bc",
   "metadata": {},
   "outputs": [],
   "source": [
    "print(\n",
    "    \"    Для user_data:\\n\"\n",
    "    \"Размер таблицы: {}\\n\"\n",
    "    \"Типы переменных:\\n{}\\n\"\n",
    "    \"Наличие пропущенных значений:\\n{}\\n\"\n",
    "    \"Описательная статистика:\\n{}\"\n",
    "    .format(user_data.shape, user_data.dtypes, user_data.isna().sum(), user_data.describe())\n",
    ")\n",
    "print(\n",
    "    \"    Для logs:\\n\"\n",
    "    \"Размер таблицы: {}\\n\"\n",
    "    \"Типы переменных:\\n{}\\n\"\n",
    "    \"Наличие пропущенных значений:\\n{}\\n\"\n",
    "    \"Описательная статистика:\\n{}\"\n",
    "    .format(logs.shape, logs.dtypes, logs.isna().sum(), logs.describe())\n",
    ")"
   ]
  },
  {
   "cell_type": "markdown",
   "id": "2d8155d9-4554-4415-a6eb-a58a0de3ea4a",
   "metadata": {},
   "source": [
    "**2. Узнаем какой клиент совершил больше всего успешных операций**"
   ]
  },
  {
   "cell_type": "code",
   "execution_count": 32,
   "id": "442ab459-8f3e-455f-a1d5-0cc365ec95dc",
   "metadata": {},
   "outputs": [
    {
     "data": {
      "text/html": [
       "<div>\n",
       "<style scoped>\n",
       "    .dataframe tbody tr th:only-of-type {\n",
       "        vertical-align: middle;\n",
       "    }\n",
       "\n",
       "    .dataframe tbody tr th {\n",
       "        vertical-align: top;\n",
       "    }\n",
       "\n",
       "    .dataframe thead th {\n",
       "        text-align: right;\n",
       "    }\n",
       "</style>\n",
       "<table border=\"1\" class=\"dataframe\">\n",
       "  <thead>\n",
       "    <tr style=\"text-align: right;\">\n",
       "      <th></th>\n",
       "      <th>client</th>\n",
       "      <th>successful_rides</th>\n",
       "    </tr>\n",
       "  </thead>\n",
       "  <tbody>\n",
       "    <tr>\n",
       "      <th>0</th>\n",
       "      <td>36165</td>\n",
       "      <td>41</td>\n",
       "    </tr>\n",
       "    <tr>\n",
       "      <th>1</th>\n",
       "      <td>28719</td>\n",
       "      <td>41</td>\n",
       "    </tr>\n",
       "    <tr>\n",
       "      <th>2</th>\n",
       "      <td>12179</td>\n",
       "      <td>41</td>\n",
       "    </tr>\n",
       "    <tr>\n",
       "      <th>3</th>\n",
       "      <td>52870</td>\n",
       "      <td>41</td>\n",
       "    </tr>\n",
       "    <tr>\n",
       "      <th>4</th>\n",
       "      <td>61468</td>\n",
       "      <td>41</td>\n",
       "    </tr>\n",
       "    <tr>\n",
       "      <th>5</th>\n",
       "      <td>61473</td>\n",
       "      <td>41</td>\n",
       "    </tr>\n",
       "    <tr>\n",
       "      <th>6</th>\n",
       "      <td>78349</td>\n",
       "      <td>41</td>\n",
       "    </tr>\n",
       "    <tr>\n",
       "      <th>7</th>\n",
       "      <td>82563</td>\n",
       "      <td>41</td>\n",
       "    </tr>\n",
       "    <tr>\n",
       "      <th>8</th>\n",
       "      <td>92584</td>\n",
       "      <td>41</td>\n",
       "    </tr>\n",
       "  </tbody>\n",
       "</table>\n",
       "</div>"
      ],
      "text/plain": [
       "   client  successful_rides\n",
       "0   36165                41\n",
       "1   28719                41\n",
       "2   12179                41\n",
       "3   52870                41\n",
       "4   61468                41\n",
       "5   61473                41\n",
       "6   78349                41\n",
       "7   82563                41\n",
       "8   92584                41"
      ]
     },
     "execution_count": 32,
     "metadata": {},
     "output_type": "execute_result"
    }
   ],
   "source": [
    "successful_rides = logs.query('success==True')\\\n",
    "        .groupby('client')\\\n",
    "        .agg({'platform' : 'count'})\\\n",
    "        .sort_values('platform', ascending = False)\\\n",
    "        .rename(columns = {'platform' : 'successful_rides'}).reset_index()\n",
    "max_successful_number = successful_rides.successful_rides.max()\n",
    "max_successful_rides_clients=successful_rides.query('successful_rides == @max_successful_number')\n",
    "max_successful_rides_clients"
   ]
  },
  {
   "cell_type": "markdown",
   "id": "4dca9786-3b27-4ae6-a466-c08bd486061d",
   "metadata": {},
   "source": [
    "**3. Узнаем с какой платформы осуществляется наибольшее количество успешных операций**"
   ]
  },
  {
   "cell_type": "code",
   "execution_count": 33,
   "id": "846d1c5d-8df7-4552-a643-2bde9e0551ce",
   "metadata": {},
   "outputs": [
    {
     "data": {
      "text/html": [
       "<div>\n",
       "<style scoped>\n",
       "    .dataframe tbody tr th:only-of-type {\n",
       "        vertical-align: middle;\n",
       "    }\n",
       "\n",
       "    .dataframe tbody tr th {\n",
       "        vertical-align: top;\n",
       "    }\n",
       "\n",
       "    .dataframe thead th {\n",
       "        text-align: right;\n",
       "    }\n",
       "</style>\n",
       "<table border=\"1\" class=\"dataframe\">\n",
       "  <thead>\n",
       "    <tr style=\"text-align: right;\">\n",
       "      <th></th>\n",
       "      <th>platform</th>\n",
       "      <th>count</th>\n",
       "    </tr>\n",
       "  </thead>\n",
       "  <tbody>\n",
       "    <tr>\n",
       "      <th>0</th>\n",
       "      <td>phone</td>\n",
       "      <td>2019</td>\n",
       "    </tr>\n",
       "  </tbody>\n",
       "</table>\n",
       "</div>"
      ],
      "text/plain": [
       "  platform  count\n",
       "0    phone   2019"
      ]
     },
     "execution_count": 33,
     "metadata": {},
     "output_type": "execute_result"
    }
   ],
   "source": [
    "logs.query('success==True').platform.value_counts().head(1).reset_index()"
   ]
  },
  {
   "cell_type": "markdown",
   "id": "7dc80eed-5190-4d76-b2dc-43d2f50228f5",
   "metadata": {},
   "source": [
    "**4. Узнаем какую платформу предпочитают премиумные клиенты**\n",
    "Для этого соединим два датафрейма по клиентам, выполнявших действия вне зависимости от их успешного результата, и произведем поиск."
   ]
  },
  {
   "cell_type": "code",
   "execution_count": 58,
   "id": "2f0827c5-e693-41f7-b540-72c63dab488f",
   "metadata": {},
   "outputs": [
    {
     "data": {
      "text/html": [
       "<div>\n",
       "<style scoped>\n",
       "    .dataframe tbody tr th:only-of-type {\n",
       "        vertical-align: middle;\n",
       "    }\n",
       "\n",
       "    .dataframe tbody tr th {\n",
       "        vertical-align: top;\n",
       "    }\n",
       "\n",
       "    .dataframe thead th {\n",
       "        text-align: right;\n",
       "    }\n",
       "</style>\n",
       "<table border=\"1\" class=\"dataframe\">\n",
       "  <thead>\n",
       "    <tr style=\"text-align: right;\">\n",
       "      <th></th>\n",
       "      <th>platform</th>\n",
       "      <th>count</th>\n",
       "    </tr>\n",
       "  </thead>\n",
       "  <tbody>\n",
       "    <tr>\n",
       "      <th>0</th>\n",
       "      <td>phone</td>\n",
       "      <td>246</td>\n",
       "    </tr>\n",
       "  </tbody>\n",
       "</table>\n",
       "</div>"
      ],
      "text/plain": [
       "  platform  count\n",
       "0    phone    246"
      ]
     },
     "execution_count": 58,
     "metadata": {},
     "output_type": "execute_result"
    }
   ],
   "source": [
    "data = logs.merge(user_data)\n",
    "data.query('premium == True').platform.value_counts().head(1).reset_index()"
   ]
  },
  {
   "cell_type": "markdown",
   "id": "6e6e37b8-03e7-45ea-86ef-ef9b95de50fa",
   "metadata": {},
   "source": [
    "**5. Визуализируем распределение возраста клиентов в зависимости от типа клиента (премиум или нет)**"
   ]
  },
  {
   "cell_type": "code",
   "execution_count": 68,
   "id": "333a697c-c9be-4f8e-9f66-69b69861aff2",
   "metadata": {},
   "outputs": [
    {
     "data": {
      "text/plain": [
       "<seaborn.axisgrid.FacetGrid at 0x22c84092e90>"
      ]
     },
     "execution_count": 68,
     "metadata": {},
     "output_type": "execute_result"
    },
    {
     "data": {
      "image/png": "[encoded data removed]",
      "text/plain": [
       "<Figure size 500x500 with 1 Axes>"
      ]
     },
     "metadata": {},
     "output_type": "display_data"
    },
    {
     "data": {
      "image/png": "[encoded data removed]",
      "text/plain": [
       "<Figure size 500x500 with 1 Axes>"
      ]
     },
     "metadata": {},
     "output_type": "display_data"
    }
   ],
   "source": [
    "\n",
    "sns.displot(data.query('premium == False').age)\n",
    "sns.displot(data.query('premium == True').age)"
   ]
  },
  {
   "cell_type": "markdown",
   "id": "0d25f00f-6c9a-49f9-83b6-543b29207a43",
   "metadata": {},
   "source": [
    "**6. Построим график распределения числа успешных операций**"
   ]
  },
  {
   "cell_type": "code",
   "execution_count": 85,
   "id": "478a2a67-fc6d-4feb-b61e-52df7f0a2514",
   "metadata": {},
   "outputs": [
    {
     "data": {
      "text/plain": [
       "<Axes: ylabel='Count'>"
      ]
     },
     "execution_count": 85,
     "metadata": {},
     "output_type": "execute_result"
    },
    {
     "data": {
      "image/png": "[encoded data removed]",
      "text/plain": [
       "<Figure size 1200x200 with 1 Axes>"
      ]
     },
     "metadata": {},
     "output_type": "display_data"
    }
   ],
   "source": [
    "data_success = data.groupby('client').agg({'success': 'sum'})\n",
    "plt.figure(figsize=(12,2))\n",
    "sns.histplot(data_success)"
   ]
  },
  {
   "cell_type": "markdown",
   "id": "06e990f8-cab8-4fe5-95fc-eb3acd76b4da",
   "metadata": {},
   "source": [
    "**7. Визуализируем число успешных операций, сделанных на платформе computer, в зависимости от возраста, используя sns.countplot (x – возраст, y – число успешных операций). Узнаем клиенты какого возраста совершили наибольшее количество успешных действий**"
   ]
  },
  {
   "cell_type": "code",
   "execution_count": 119,
   "id": "4abd55b2-69b0-4d14-98fd-b292edbfe5c9",
   "metadata": {},
   "outputs": [
    {
     "data": {
      "text/plain": [
       "<Axes: xlabel='age', ylabel='success'>"
      ]
     },
     "execution_count": 119,
     "metadata": {},
     "output_type": "execute_result"
    },
    {
     "data": {
      "image/png": "[encoded data removed]",
      "text/plain": [
       "<Figure size 2000x800 with 1 Axes>"
      ]
     },
     "metadata": {},
     "output_type": "display_data"
    }
   ],
   "source": [
    "data_age_success = data.query('platform == \"computer\"').groupby('age').agg({'success' : 'sum'}).reset_index()\n",
    "plt.figure(figsize=(20,8))\n",
    "sns.barplot(data = data_age_success, x = 'age', y = 'success'  )\n",
    "\n"
   ]
  },
  {
   "cell_type": "markdown",
   "id": "5a281ade-cc3e-411d-88ac-4dde1bce282d",
   "metadata": {},
   "source": [
    "И реализация с помощью countplot:"
   ]
  },
  {
   "cell_type": "code",
   "execution_count": 136,
   "id": "626c92ff-4360-49fd-b2e5-5ff1a5499eb8",
   "metadata": {},
   "outputs": [
    {
     "data": {
      "text/plain": [
       "<Axes: xlabel='age', ylabel='count'>"
      ]
     },
     "execution_count": 136,
     "metadata": {},
     "output_type": "execute_result"
    },
    {
     "data": {
      "image/png": "[encoded data removed]",
      "text/plain": [
       "<Figure size 2000x800 with 1 Axes>"
      ]
     },
     "metadata": {},
     "output_type": "display_data"
    }
   ],
   "source": [
    "data_age_success=data.query('platform == \"computer\" and success == True')\n",
    "plt.figure(figsize=(20,8))\n",
    "sns.countplot(x = data_age_success.age)"
   ]
  }
 ],
 "metadata": {
  "kernelspec": {
   "display_name": "Python 3 (ipykernel)",
   "language": "python",
   "name": "python3"
  },
  "language_info": {
   "codemirror_mode": {
    "name": "ipython",
    "version": 3
   },
   "file_extension": ".py",
   "mimetype": "text/x-python",
   "name": "python",
   "nbconvert_exporter": "python",
   "pygments_lexer": "ipython3",
   "version": "3.13.5"
  }
 },
 "nbformat": 4,
 "nbformat_minor": 5
}
